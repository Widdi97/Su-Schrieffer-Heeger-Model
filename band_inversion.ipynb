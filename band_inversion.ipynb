{
 "cells": [
  {
   "cell_type": "markdown",
   "metadata": {},
   "source": [
    "# Band inversion at the Brillouin zone boundary of finie Su-Schrieffer-Heeger (SSH) chains\n",
    "The band inversion is given as the expectation value\n",
    "\n",
    "\\begin{equation}\n",
    "\\left\\langle \\psi_\\text{i}\\right|\\mathbb{1} \\otimes \\sigma_\\text{x} \\left| \\psi_\\text{i} \\right\\rangle \\;,\n",
    "\\end{equation}\n",
    "\n",
    "where $\\sigma_\\text{x}$ is the first Pauli matrix and $\\left| \\psi_\\text{i} \\right\\rangle$ is the $i^\\text{th}$ eigenstate of the SSH-Hamiltonian $\\hat{H}$. The Hamiltonian is [1]\n",
    "\n",
    "\\begin{equation}\n",
    "\\hat{H} = \\alpha \\sum_{m=1}^{N}( \\left|m,B\\right\\rangle \\left\\langle m,A\\right| + \\left|m,A\\right\\rangle \\left\\langle m,B\\right|) + \\beta \\sum_{m=1}^{N-1}( \\left|m+1,A\\right\\rangle \\left\\langle m,B\\right| + \\left|m,B\\right\\rangle \\left\\langle m+1,A\\right|) \\; .\n",
    "\\end{equation}\n",
    "\n",
    "which can be written as a matrix:\n",
    "\n",
    "\\begin{equation}\n",
    "H = \\begin{pmatrix}0 & \\alpha & 0 & 0 & 0 & 0 & 0 & 0\\\\\\alpha & 0 & \\beta & 0 & 0 & 0 & 0 & 0\\\\0 & \\beta & 0 & \\alpha & 0 & 0 & 0 & 0\\\\0 & 0 & \\alpha & 0 & \\beta & 0 & 0 & 0\\\\0 & 0 & 0 & \\beta & 0 & \\alpha & 0 & 0\\\\0 & 0 & 0 & 0 & \\alpha & 0 & \\beta & 0\\\\0 & 0 & 0 & 0 & 0 & \\beta & 0 & \\alpha\\\\0 & 0 & 0 & 0 & 0 & 0 & \\alpha & 0\\end{pmatrix} \\; .\n",
    "\\end{equation}\n",
    "\n",
    "using the base\n",
    "\n",
    "\\begin{equation}\n",
    "\\left|1,A\\right\\rangle=\\begin{pmatrix} 1\\\\0\\\\0\\\\0\\\\ \\vdots \\end{pmatrix},\\;\\;\\; ...\n",
    "\\end{equation}"
   ]
  },
  {
   "cell_type": "code",
   "execution_count": 6,
   "metadata": {},
   "outputs": [],
   "source": [
    "import numpy as np\n",
    "import matplotlib.pyplot as plt\n",
    "import matplotlib\n",
    "\n",
    "\n",
    "def symmetry(state):\n",
    "    n = len(state)//2\n",
    "    operator = np.kron(np.identity(n),np.array([[0,1],[1,0]]))\n",
    "    return np.dot(np.conjugate(state.T),np.dot(operator,state))"
   ]
  },
  {
   "cell_type": "markdown",
   "metadata": {},
   "source": [
    "## topologically trivial case"
   ]
  },
  {
   "cell_type": "code",
   "execution_count": 7,
   "metadata": {},
   "outputs": [],
   "source": [
    "v = 1\n",
    "w = 0.4\n",
    "N = 20\n",
    "\n",
    "#populate H:\n",
    "H = np.zeros(( 2*N,2*N ),dtype=np.float64)\n",
    "for k in range(N):\n",
    "    H[2*k-1,2*k] = w\n",
    "    H[2*k,2*k-1] = w\n",
    "    H[2*k,2*k+1] = v\n",
    "    H[2*k+1,2*k] = v\n",
    "H[-1,0] = 0\n",
    "H[0,-1] = 0\n",
    "\n",
    "eigensystem = np.linalg.eigh(H)\n",
    "\n",
    "cmap = matplotlib.cm.get_cmap('PiYG')\n",
    "bandsymms = []\n",
    "for k in range(2*N):\n",
    "    bandsymms.append(symmetry(eigensystem[1].T[k]))\n",
    "    energies = eigensystem[0]\n",
    "    K = [n/(N-1)*np.pi for n in range(N)] + [(N-n-1)/(N-1)*np.pi for n in range(N)]"
   ]
  },
  {
   "cell_type": "markdown",
   "metadata": {},
   "source": [
    "### plot the trivial case"
   ]
  },
  {
   "cell_type": "code",
   "execution_count": 8,
   "metadata": {
    "scrolled": true
   },
   "outputs": [
    {
     "data": {
      "image/png": "[encoded data removed]",
      "text/plain": [
       "<Figure size 576x360 with 2 Axes>"
      ]
     },
     "metadata": {
      "needs_background": "light"
     },
     "output_type": "display_data"
    }
   ],
   "source": [
    "\n",
    "fig, ax = plt.subplots(figsize=(8,5))\n",
    "for k in range(2*N):\n",
    "    ax.plot([K[k]],[energies[k]],color=cmap(bandsymms[k]/2+0.5),marker=\"o\")\n",
    "    ax.plot([-K[k]],[energies[k]],color=cmap(bandsymms[k]/2+0.5),marker=\"o\")\n",
    "plt.colorbar(matplotlib.cm.ScalarMappable(norm=matplotlib.colors.Normalize(-1,1),cmap=cmap))\n",
    "plt.xticks(np.linspace(-np.pi,np.pi,5),labels=[\"$-\\\\frac{\\\\pi}{a}$\",\"$-\\\\frac{\\\\pi}{2a}$\",\"$0$\",\"$\\\\frac{\\\\pi}{2a}$\",\"$\\\\frac{\\\\pi}{a}$\"])\n",
    "ax.set_xlabel(\"Wavenumber $k$\")\n",
    "ax.set_ylabel(\"Energy $E$\")\n",
    "ax.minorticks_on()\n",
    "ax.xaxis.set_ticks_position(\"both\")\n",
    "ax.yaxis.set_ticks_position(\"both\")\n",
    "ax.tick_params(which='major', width=1.00,length=4,direction=\"in\")\n",
    "ax.tick_params(which='minor', width=0.75,length=2,direction=\"in\")\n",
    "plt.show()"
   ]
  },
  {
   "cell_type": "markdown",
   "metadata": {},
   "source": [
    "## topologically non-trivial case"
   ]
  },
  {
   "cell_type": "code",
   "execution_count": 9,
   "metadata": {},
   "outputs": [],
   "source": [
    "v = 0.4\n",
    "w = 1\n",
    "N = 20\n",
    "\n",
    "#populate H:\n",
    "H = np.zeros(( 2*N,2*N ),dtype=np.float64)\n",
    "for k in range(N):\n",
    "    H[2*k-1,2*k] = w\n",
    "    H[2*k,2*k-1] = w\n",
    "    H[2*k,2*k+1] = v\n",
    "    H[2*k+1,2*k] = v\n",
    "H[-1,0] = 0\n",
    "H[0,-1] = 0\n",
    "\n",
    "eigensystem = np.linalg.eigh(H)\n",
    "\n",
    "cmap = matplotlib.cm.get_cmap('PiYG')\n",
    "bandsymms = []\n",
    "for k in range(2*N):\n",
    "    bandsymms.append(symmetry(eigensystem[1].T[k]))\n",
    "    energies = eigensystem[0]\n",
    "    K = [n/(N-1)*np.pi for n in range(N)] + [(N-n-1)/(N-1)*np.pi for n in range(N)]"
   ]
  },
  {
   "cell_type": "markdown",
   "metadata": {},
   "source": [
    "### plot the non-trivial case"
   ]
  },
  {
   "cell_type": "code",
   "execution_count": 10,
   "metadata": {
    "scrolled": false
   },
   "outputs": [
    {
     "data": {
      "image/png": "[encoded data removed]",
      "text/plain": [
       "<Figure size 576x360 with 2 Axes>"
      ]
     },
     "metadata": {
      "needs_background": "light"
     },
     "output_type": "display_data"
    }
   ],
   "source": [
    "# plot\n",
    "fig, ax = plt.subplots(figsize=(8,5))\n",
    "for k in range(2*N):\n",
    "    ax.plot([K[k]],[energies[k]],color=cmap(bandsymms[k]/2+0.5),marker=\"o\")\n",
    "    ax.plot([-K[k]],[energies[k]],color=cmap(bandsymms[k]/2+0.5),marker=\"o\")\n",
    "plt.colorbar(matplotlib.cm.ScalarMappable(norm=matplotlib.colors.Normalize(-1,1),cmap=cmap))\n",
    "plt.xticks(np.linspace(-np.pi,np.pi,5),labels=[\"$-\\\\frac{\\\\pi}{a}$\",\"$-\\\\frac{\\\\pi}{2a}$\",\"$0$\",\"$\\\\frac{\\\\pi}{2a}$\",\"$\\\\frac{\\\\pi}{a}$\"])\n",
    "ax.set_xlabel(\"Wavenumber $k$\")\n",
    "ax.set_ylabel(\"Energy $E$\")\n",
    "ax.minorticks_on()\n",
    "ax.xaxis.set_ticks_position(\"both\")\n",
    "ax.yaxis.set_ticks_position(\"both\")\n",
    "ax.tick_params(which='major', width=1.00,length=4,direction=\"in\")\n",
    "ax.tick_params(which='minor', width=0.75,length=2,direction=\"in\")\n",
    "plt.show()"
   ]
  },
  {
   "cell_type": "markdown",
   "metadata": {},
   "source": [
    "As can be seen in the colors of the states, a band inversion takes place at the boundaries of the Brillouin zone. This only happens in the topologically non-trivial case. The topological edge states can be seen in the bandgap at $E=0$."
   ]
  },
  {
   "cell_type": "markdown",
   "metadata": {},
   "source": [
    "# References\n",
    "[1] J. K. Asbóth, L. Oroszlány, and A. Pályi, *A Short Course on Topological Insulators.* Budapest, HU: Springer Cham, Sep 2017. [Online]. Available: https://arxiv.org/pdf/1509.02295.pdf"
   ]
  }
 ],
 "metadata": {
  "kernelspec": {
   "display_name": "Python 3",
   "language": "python",
   "name": "python3"
  },
  "language_info": {
   "codemirror_mode": {
    "name": "ipython",
    "version": 3
   },
   "file_extension": ".py",
   "mimetype": "text/x-python",
   "name": "python",
   "nbconvert_exporter": "python",
   "pygments_lexer": "ipython3",
   "version": "3.8.5"
  }
 },
 "nbformat": 4,
 "nbformat_minor": 4
}
