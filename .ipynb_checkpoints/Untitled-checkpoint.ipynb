{
 "cells": [
  {
   "cell_type": "code",
   "execution_count": null,
   "metadata": {},
   "outputs": [],
   "source": [
    "import numpy as np\n",
    "import matplotlib.pyplot as plt\n",
    "\n",
    "\n",
    "beta = 1 # inter-cell coupling\n",
    "N = 8 # Unit cells\n",
    "\n",
    "steps = 500 # resolution\n",
    "v_list = [ 0.001 + 3*1/steps*k for k in range(steps+1)] # bei v=0: Err, da degenerierte EW\n",
    "graphs = [ [] for k in range(2*N) ]"
   ]
  },
  {
   "cell_type": "code",
   "execution_count": null,
   "metadata": {},
   "outputs": [],
   "source": [
    "#populate H:\n",
    "H = np.zeros(( 2*N,2*N ))\n",
    "for alpha in v_list:\n",
    "    for k in range(N):\n",
    "        H[2*k-1,2*k] = beta\n",
    "        H[2*k,2*k-1] = beta\n",
    "        H[2*k,2*k+1] = alpha\n",
    "        H[2*k+1,2*k] = alpha\n",
    "        \n",
    "    H[-1,0] = 0\n",
    "    H[0,-1] = 0\n",
    "\n",
    "    energies = np.linalg.eigvalsh(H)#[ sp.re(key.evalf()) for key in H.eigenvals().keys() ] # realteil, da floatingpoint errors zu kleinen imaginären Anteilen führen\n",
    "    energies.sort()\n",
    "    for k in range(2*N):\n",
    "        graphs[k].append(energies[k])"
   ]
  },
  {
   "cell_type": "code",
   "execution_count": null,
   "metadata": {},
   "outputs": [],
   "source": [
    "fig, ax = plt.subplots(figsize=(6,4.5))\n",
    "for k in range(2*N):\n",
    "    ax.plot(v_list,graphs[k],color=\"k\",linewidth=0.5)\n",
    "plt.xlim(0,3)\n",
    "plt.ylim(-3,3)\n",
    "plt.xlabel(\"$α$\")\n",
    "plt.ylabel(\"Energy $E$\")\n",
    "plt.text(0.2, -2.6, '$β={}$'.format(beta))\n",
    "plt.vlines(1,-3,3,color=\"grey\",linestyle=\"-.\",linewidth=0.5)\n",
    "fig.tight_layout()\n",
    "plt.show()"
   ]
  }
 ],
 "metadata": {
  "kernelspec": {
   "display_name": "Python 3",
   "language": "python",
   "name": "python3"
  },
  "language_info": {
   "codemirror_mode": {
    "name": "ipython",
    "version": 3
   },
   "file_extension": ".py",
   "mimetype": "text/x-python",
   "name": "python",
   "nbconvert_exporter": "python",
   "pygments_lexer": "ipython3",
   "version": "3.8.5"
  }
 },
 "nbformat": 4,
 "nbformat_minor": 4
}
